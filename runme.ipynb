{
 "metadata": {
  "language_info": {
   "codemirror_mode": {
    "name": "ipython",
    "version": 3
   },
   "file_extension": ".py",
   "mimetype": "text/x-python",
   "name": "python",
   "nbconvert_exporter": "python",
   "pygments_lexer": "ipython3",
   "version": "3.8.5"
  },
  "orig_nbformat": 2,
  "kernelspec": {
   "name": "python3",
   "display_name": "Python 3",
   "language": "python"
  }
 },
 "nbformat": 4,
 "nbformat_minor": 2,
 "cells": [
  {
   "cell_type": "code",
   "execution_count": 41,
   "metadata": {},
   "outputs": [],
   "source": [
    "#make sure to convert working notebook first\n",
    "import arraymaker\n",
    "from ipywidgets import interactive, interact_manual,IntProgress\n",
    "from IPython.display import clear_output\n",
    "import time\n",
    "import matplotlib.pyplot as plt\n",
    "from progress.bar import Bar\n",
    "from PIL import Image\n",
    "import numpy as np\n",
    "\n"
   ]
  },
  {
   "cell_type": "code",
   "execution_count": 11,
   "metadata": {},
   "outputs": [
    {
     "output_type": "display_data",
     "data": {
      "text/plain": "interactive(children=(IntSlider(value=70, description='gridx', min=50, step=10), IntSlider(value=5, descriptio…",
      "application/vnd.jupyter.widget-view+json": {
       "version_major": 2,
       "version_minor": 0,
       "model_id": "c37df0757c85424d80cd81e7bc73a24e"
      }
     },
     "metadata": {}
    }
   ],
   "source": [
    "#input params\n",
    "gridx = 100\n",
    "gridy = gridx\n",
    "facies  = 5\n",
    "runs = 20\n",
    "iterations = 10 #iterations is x axis param\n",
    "\n",
    "\n",
    "\n",
    "\n",
    "def plots(gridx,facies,runs,iterations):\n",
    "    gridy = gridx\n",
    "    #creates grid of dimension x,y, number of facies\n",
    "    data = arraymaker.grid(gridx, gridy,facies)\n",
    "    data.genrandomgrid()\n",
    "    plt.show(data.show2dgrid())\n",
    "\n",
    "    #returns randomly extracted data\n",
    "    #randomreturn(n, iterations, valuemode) Tru returns just value, false also returns x,y\n",
    "    data.randomreturn(iterations, runs, True)\n",
    "\n",
    "    #plots data on graph\n",
    "    #plot()\n",
    "    data.plot('sphagetti')\n",
    "    data.plot('minmax')\n",
    "\n",
    "interactive_plot = interactive(plots, gridx =(50,100,10), gridy =(50,100,10),facies  =(2,9,1), runs =(1,50,5), iterations =(50,1000,50))\n",
    "interactive_plot\n",
    "\n",
    "\n",
    "\n"
   ]
  },
  {
   "cell_type": "code",
   "execution_count": null,
   "metadata": {},
   "outputs": [],
   "source": [
    "def generaterandomgrids(number, x, y , facies):\n",
    "\n",
    "    f = IntProgress(\n",
    "        min=0, \n",
    "        max=number,\n",
    "        description='generating'\n",
    "        ) \n",
    "\n",
    "    display(f) # display the bar\n",
    "\n",
    "    files = []\n",
    "\n",
    "    \n",
    "    for i in range(1,number+1):\n",
    "        data = arraymaker.grid(x,y,facies)\n",
    "        data.genrandomgrid()\n",
    "        files.append(data.array)\n",
    "        data.show2dgrid()\n",
    "        f.value += 1\n",
    "        clear_output(wait=True)\n",
    "\n",
    "        \n",
    "\n",
    "generaterandomgrids(100, 10, 10, 5)\n",
    "\n",
    "\n",
    "\n"
   ]
  },
  {
   "cell_type": "code",
   "execution_count": 44,
   "metadata": {
    "tags": []
   },
   "outputs": [
    {
     "output_type": "error",
     "ename": "AttributeError",
     "evalue": "module 'arraymaker' has no attribute 'input'",
     "traceback": [
      "\u001b[1;31m---------------------------------------------------------------------------\u001b[0m",
      "\u001b[1;31mAttributeError\u001b[0m                            Traceback (most recent call last)",
      "\u001b[1;32m<ipython-input-44-d77ee00f0f7f>\u001b[0m in \u001b[0;36m<module>\u001b[1;34m\u001b[0m\n\u001b[0;32m      5\u001b[0m \u001b[1;33m\u001b[0m\u001b[0m\n\u001b[0;32m      6\u001b[0m \u001b[1;33m\u001b[0m\u001b[0m\n\u001b[1;32m----> 7\u001b[1;33m \u001b[0mdata\u001b[0m  \u001b[1;33m=\u001b[0m \u001b[0marraymaker\u001b[0m\u001b[1;33m.\u001b[0m\u001b[0minput\u001b[0m\u001b[1;33m(\u001b[0m\u001b[0mdata\u001b[0m\u001b[1;33m)\u001b[0m\u001b[1;33m\u001b[0m\u001b[1;33m\u001b[0m\u001b[0m\n\u001b[0m\u001b[0;32m      8\u001b[0m \u001b[1;33m\u001b[0m\u001b[0m\n",
      "\u001b[1;31mAttributeError\u001b[0m: module 'arraymaker' has no attribute 'input'"
     ]
    }
   ],
   "source": [
    "#open bitmap and import to np array\n",
    "im = Image.open(\"Input_images/river.bmp\")\n",
    "data = [[im.getpixel((x, y)) for x in range(im.width)] for y in range(im.height)]\n",
    "data = np.asarray(data)\n",
    "\n",
    "\n",
    "data  = arraymaker.input(data)\n",
    "\n"
   ]
  },
  {
   "cell_type": "code",
   "execution_count": null,
   "metadata": {},
   "outputs": [],
   "source": []
  }
 ]
}