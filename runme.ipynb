{
 "metadata": {
  "language_info": {
   "codemirror_mode": {
    "name": "ipython",
    "version": 3
   },
   "file_extension": ".py",
   "mimetype": "text/x-python",
   "name": "python",
   "nbconvert_exporter": "python",
   "pygments_lexer": "ipython3",
   "version": "3.9.1-final"
  },
  "orig_nbformat": 2,
  "kernelspec": {
   "name": "python3",
   "display_name": "Python 3",
   "language": "python"
  }
 },
 "nbformat": 4,
 "nbformat_minor": 2,
 "cells": [
  {
   "cell_type": "code",
   "execution_count": 1,
   "metadata": {},
   "outputs": [],
   "source": [
    "#make sure to convert working notebook first\n",
    "import arraymaker\n",
    "from ipywidgets import interactive, interact_manual,IntProgress\n",
    "from IPython.display import clear_output\n",
    "import time\n",
    "import matplotlib.pyplot as plt\n",
    "from progress.bar import Bar\n",
    "from PIL import Image\n",
    "import numpy as np\n",
    "\n",
    "import seaborn as sns\n",
    "sns.set()\n",
    "sns.set_style(\"white\")\n",
    "sns.set_context(\"notebook\")\n",
    "\n",
    "\n"
   ]
  },
  {
   "cell_type": "code",
   "execution_count": 2,
   "metadata": {},
   "outputs": [
    {
     "output_type": "display_data",
     "data": {
      "text/plain": "interactive(children=(IntSlider(value=70, description='gridx', min=50, step=10), IntSlider(value=5, descriptio…",
      "application/vnd.jupyter.widget-view+json": {
       "version_major": 2,
       "version_minor": 0,
       "model_id": "e0f5f8811dbb47e7a765592962485c50"
      }
     },
     "metadata": {}
    }
   ],
   "source": [
    "#input params\n",
    "gridx = 100\n",
    "gridy = gridx\n",
    "facies  = 5\n",
    "runs = 20\n",
    "iterations = 10 #iterations is x axis param\n",
    "\n",
    "\n",
    "\n",
    "\n",
    "def plots(gridx,facies,runs,iterations):\n",
    "    gridy = gridx\n",
    "    #creates grid of dimension x,y, number of facies\n",
    "    data = arraymaker.grid(gridx, gridy,facies)\n",
    "    data.genrandomgrid()\n",
    "    plt.show(data.show2dgrid())\n",
    "\n",
    "    #returns randomly extracted data\n",
    "    #randomreturn(n, iterations, valuemode) Tru returns just value, false also returns x,y\n",
    "    data.randomreturn(iterations, runs, True)\n",
    "\n",
    "    #plots data on graph\n",
    "    #plot()\n",
    "    data.plot('sphagetti')\n",
    "    data.plot('minmax')\n",
    "\n",
    "interactive_plot = interactive(plots, gridx =(50,100,10), gridy =(50,100,10),facies  =(2,9,1), runs =(1,50,1), iterations =(50,1000,50))\n",
    "interactive_plot\n",
    "\n",
    "\n",
    "\n"
   ]
  },
  {
   "cell_type": "code",
   "execution_count": 3,
   "metadata": {},
   "outputs": [
    {
     "output_type": "display_data",
     "data": {
      "text/plain": "interactive(children=(IntSlider(value=5, description='number', max=10, min=1), IntSlider(value=50, description…",
      "application/vnd.jupyter.widget-view+json": {
       "version_major": 2,
       "version_minor": 0,
       "model_id": "c54d1902e7824c1d9016480faffeb616"
      }
     },
     "metadata": {}
    },
    {
     "output_type": "execute_result",
     "data": {
      "text/plain": [
       "<function __main__.generaterandomgrids(number, x, y, facies)>"
      ]
     },
     "metadata": {},
     "execution_count": 3
    }
   ],
   "source": [
    "def generaterandomgrids(number, x, y , facies):\n",
    "\n",
    "    f = IntProgress(\n",
    "        min=0, \n",
    "        max=number,\n",
    "        description='generating'\n",
    "        ) \n",
    "\n",
    "    files = []\n",
    "\n",
    "\n",
    "    for i in range(1,number+1):\n",
    "        data = arraymaker.grid(x,y,facies)\n",
    "        data.genrandomgrid()\n",
    "        files.append(data.array)\n",
    "        data.show2dgrid()\n",
    "        clear_output(wait=True)\n",
    "\n",
    "        \n",
    "\n",
    "interact = interact_manual(generaterandomgrids,number=(1,10,1), x=(10,100,10), y=(10,100,10), facies=(1,9,1))\n",
    "interact\n",
    "\n",
    "\n",
    "\n"
   ]
  }
 ]
}